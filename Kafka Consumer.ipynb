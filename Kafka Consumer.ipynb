{
 "cells": [
  {
   "cell_type": "code",
   "execution_count": 1,
   "id": "01e24043",
   "metadata": {
    "scrolled": true
   },
   "outputs": [
    {
     "name": "stdout",
     "output_type": "stream",
     "text": [
      "Requirement already satisfied: s3fs in c:\\users\\k yashwanth reddy\\appdata\\roaming\\python\\python39\\site-packages (2023.10.0)\n",
      "Requirement already satisfied: aiohttp!=4.0.0a0,!=4.0.0a1 in c:\\users\\k yashwanth reddy\\appdata\\roaming\\python\\python39\\site-packages (from s3fs) (3.8.6)\n",
      "Requirement already satisfied: fsspec==2023.10.0 in c:\\users\\k yashwanth reddy\\appdata\\roaming\\python\\python39\\site-packages (from s3fs) (2023.10.0)\n",
      "Requirement already satisfied: aiobotocore~=2.7.0 in c:\\users\\k yashwanth reddy\\appdata\\roaming\\python\\python39\\site-packages (from s3fs) (2.7.0)\n",
      "Requirement already satisfied: botocore<1.31.65,>=1.31.16 in c:\\users\\k yashwanth reddy\\appdata\\roaming\\python\\python39\\site-packages (from aiobotocore~=2.7.0->s3fs) (1.31.64)\n",
      "Requirement already satisfied: wrapt<2.0.0,>=1.10.10 in c:\\programdata\\anaconda3\\lib\\site-packages (from aiobotocore~=2.7.0->s3fs) (1.12.1)\n",
      "Requirement already satisfied: aioitertools<1.0.0,>=0.5.1 in c:\\users\\k yashwanth reddy\\appdata\\roaming\\python\\python39\\site-packages (from aiobotocore~=2.7.0->s3fs) (0.11.0)\n",
      "Requirement already satisfied: charset-normalizer<4.0,>=2.0 in c:\\programdata\\anaconda3\\lib\\site-packages (from aiohttp!=4.0.0a0,!=4.0.0a1->s3fs) (2.0.4)\n",
      "Requirement already satisfied: aiosignal>=1.1.2 in c:\\users\\k yashwanth reddy\\appdata\\roaming\\python\\python39\\site-packages (from aiohttp!=4.0.0a0,!=4.0.0a1->s3fs) (1.3.1)\n",
      "Requirement already satisfied: yarl<2.0,>=1.0 in c:\\users\\k yashwanth reddy\\appdata\\roaming\\python\\python39\\site-packages (from aiohttp!=4.0.0a0,!=4.0.0a1->s3fs) (1.9.2)\n",
      "Requirement already satisfied: multidict<7.0,>=4.5 in c:\\users\\k yashwanth reddy\\appdata\\roaming\\python\\python39\\site-packages (from aiohttp!=4.0.0a0,!=4.0.0a1->s3fs) (6.0.4)\n",
      "Requirement already satisfied: attrs>=17.3.0 in c:\\programdata\\anaconda3\\lib\\site-packages (from aiohttp!=4.0.0a0,!=4.0.0a1->s3fs) (21.2.0)\n",
      "Note: you may need to restart the kernel to use updated packages.Requirement already satisfied: frozenlist>=1.1.1 in c:\\users\\k yashwanth reddy\\appdata\\roaming\\python\\python39\\site-packages (from aiohttp!=4.0.0a0,!=4.0.0a1->s3fs) (1.4.0)\n",
      "Requirement already satisfied: async-timeout<5.0,>=4.0.0a3 in c:\\users\\k yashwanth reddy\\appdata\\roaming\\python\\python39\\site-packages (from aiohttp!=4.0.0a0,!=4.0.0a1->s3fs) (4.0.3)\n",
      "Requirement already satisfied: typing_extensions>=4.0 in c:\\users\\k yashwanth reddy\\appdata\\roaming\\python\\python39\\site-packages (from aioitertools<1.0.0,>=0.5.1->aiobotocore~=2.7.0->s3fs) (4.8.0)\n",
      "Requirement already satisfied: urllib3<1.27,>=1.25.4 in c:\\programdata\\anaconda3\\lib\\site-packages (from botocore<1.31.65,>=1.31.16->aiobotocore~=2.7.0->s3fs) (1.26.7)\n",
      "Requirement already satisfied: python-dateutil<3.0.0,>=2.1 in c:\\programdata\\anaconda3\\lib\\site-packages (from botocore<1.31.65,>=1.31.16->aiobotocore~=2.7.0->s3fs) (2.8.2)\n",
      "Requirement already satisfied: jmespath<2.0.0,>=0.7.1 in c:\\users\\k yashwanth reddy\\appdata\\roaming\\python\\python39\\site-packages (from botocore<1.31.65,>=1.31.16->aiobotocore~=2.7.0->s3fs) (1.0.1)\n"
     ]
    },
    {
     "name": "stderr",
     "output_type": "stream",
     "text": [
      "WARNING: Ignoring invalid distribution -andas (c:\\programdata\\anaconda3\\lib\\site-packages)\n",
      "WARNING: Ignoring invalid distribution -andas (c:\\programdata\\anaconda3\\lib\\site-packages)\n",
      "WARNING: Ignoring invalid distribution -andas (c:\\programdata\\anaconda3\\lib\\site-packages)\n",
      "WARNING: Ignoring invalid distribution -andas (c:\\programdata\\anaconda3\\lib\\site-packages)\n",
      "WARNING: Ignoring invalid distribution -andas (c:\\programdata\\anaconda3\\lib\\site-packages)\n",
      "WARNING: Ignoring invalid distribution -andas (c:\\programdata\\anaconda3\\lib\\site-packages)\n"
     ]
    },
    {
     "name": "stdout",
     "output_type": "stream",
     "text": [
      "\n",
      "Requirement already satisfied: idna>=2.0 in c:\\programdata\\anaconda3\\lib\\site-packages (from yarl<2.0,>=1.0->aiohttp!=4.0.0a0,!=4.0.0a1->s3fs) (3.2)\n",
      "Requirement already satisfied: six>=1.5 in c:\\programdata\\anaconda3\\lib\\site-packages (from python-dateutil<3.0.0,>=2.1->botocore<1.31.65,>=1.31.16->aiobotocore~=2.7.0->s3fs) (1.16.0)\n",
      "\n",
      "[notice] A new release of pip available: 22.2 -> 23.3.1\n",
      "[notice] To update, run: python.exe -m pip install --upgrade pip\n"
     ]
    }
   ],
   "source": [
    "pip install s3fs --user"
   ]
  },
  {
   "cell_type": "code",
   "execution_count": 7,
   "id": "52e1494d",
   "metadata": {},
   "outputs": [],
   "source": [
    "from kafka import KafkaConsumer\n",
    "from time import sleep\n",
    "from json import dumps\n",
    "import json \n",
    "from json import loads \n",
    "\n",
    "from s3fs import S3FileSystem"
   ]
  },
  {
   "cell_type": "code",
   "execution_count": 8,
   "id": "57a335ab",
   "metadata": {},
   "outputs": [],
   "source": [
    "consumer = KafkaConsumer(\n",
    "    'demo_testing2',\n",
    "     bootstrap_servers=['35.92.44.8:9092'], #add your IP here\n",
    "    value_deserializer=lambda x: loads(x.decode('utf-8')))"
   ]
  },
  {
   "cell_type": "code",
   "execution_count": 4,
   "id": "319f9cc8",
   "metadata": {},
   "outputs": [],
   "source": [
    "# for c in consumer:\n",
    "#     print(c.value)"
   ]
  },
  {
   "cell_type": "code",
   "execution_count": 10,
   "id": "0e9d5cba",
   "metadata": {},
   "outputs": [],
   "source": [
    "s3=S3FileSystem()"
   ]
  },
  {
   "cell_type": "code",
   "execution_count": null,
   "id": "7897ae25",
   "metadata": {},
   "outputs": [],
   "source": [
    "for count, i in enumerate(consumer):\n",
    "    with s3.open(\"s3://rtsp-stock-market/stock_market_{}.json\".format(count), 'w') as file:\n",
    "        json.dump(i.value, file) "
   ]
  },
  {
   "cell_type": "code",
   "execution_count": null,
   "id": "e88e86b3",
   "metadata": {},
   "outputs": [],
   "source": []
  }
 ],
 "metadata": {
  "kernelspec": {
   "display_name": "Python 3 (ipykernel)",
   "language": "python",
   "name": "python3"
  },
  "language_info": {
   "codemirror_mode": {
    "name": "ipython",
    "version": 3
   },
   "file_extension": ".py",
   "mimetype": "text/x-python",
   "name": "python",
   "nbconvert_exporter": "python",
   "pygments_lexer": "ipython3",
   "version": "3.9.7"
  }
 },
 "nbformat": 4,
 "nbformat_minor": 5
}
